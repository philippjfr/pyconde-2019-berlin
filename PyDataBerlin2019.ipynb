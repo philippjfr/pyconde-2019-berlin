{
 "cells": [
  {
   "cell_type": "code",
   "execution_count": null,
   "metadata": {},
   "outputs": [],
   "source": [
    "import panel as pn\n",
    "pn.extension('plotly')"
   ]
  },
  {
   "cell_type": "markdown",
   "metadata": {},
   "source": [
    "<div style=\"display: block;\"><center>\n",
    "<img src=\"panel_logo_stacked.png\" width=250><br>\n",
    "<h1>Turn any notebook into a deployable dashboard\n",
    "</h1>\n",
    "<h2>PyConDE & PyData Berlin 2019</h2>\n",
    "<br>\n",
    "<h3>Philipp Rudiger (@philippjfr)\n",
    "<img src=\"anaconda-logo.png\" width=350>\n",
    "</center></div>"
   ]
  },
  {
   "cell_type": "markdown",
   "metadata": {},
   "source": [
    "Do you have a Jupyter notebook with a plot in it?"
   ]
  },
  {
   "cell_type": "markdown",
   "metadata": {},
   "source": [
    "Or a table, or an image, or an equation?"
   ]
  },
  {
   "cell_type": "markdown",
   "metadata": {},
   "source": [
    "And maybe you want to explore these things, or share them?"
   ]
  },
  {
   "cell_type": "markdown",
   "metadata": {},
   "source": [
    "Ok, Panel is for you."
   ]
  },
  {
   "cell_type": "markdown",
   "metadata": {},
   "source": [
    "<img src=\"panel_logo_stacked.png\" width=170>\n",
    "\n",
    "- Panel is relatively new library, but built on Bokeh's solid 1.x release.\n",
    "- Panel lets all your notebooks double as apps or dashboards.\n",
    "- Use just about any plotting library, image type, or other objects.\n",
    "- Develop dashboards in a notebook, deploy, revise, repeat.\n",
    "- Fully usable with Jupyter *and* without Jupyter installed."
   ]
  },
  {
   "cell_type": "markdown",
   "metadata": {},
   "source": [
    "## Demos\n",
    "\n",
    "- https://panel.pyviz.org/gallery\n",
    "- https://examples.pyviz.org\n",
    "- http://localhost:5006\n",
    "- https://webcam-classifier.pyviz.demo.anaconda.com/"
   ]
  },
  {
   "cell_type": "markdown",
   "metadata": {},
   "source": [
    "To dive in, let's say we have a dataset to explore, such as this<br>\n",
    "[UCI ML dataset measuring the environment in a meeting room](http://archive.ics.uci.edu/ml/datasets/Occupancy+Detection+)."
   ]
  },
  {
   "cell_type": "code",
   "execution_count": null,
   "metadata": {},
   "outputs": [],
   "source": [
    "import pandas as pd; import numpy as np; import matplotlib.pyplot as plt\n",
    "\n",
    "data = pd.read_csv('./occupancy.csv', index_col='date', parse_dates=True)\n",
    "data.tail()"
   ]
  },
  {
   "cell_type": "markdown",
   "metadata": {},
   "source": [
    "And we've written some code that smooths a time series and plots it using Matplotlib with outliers highlighted:"
   ]
  },
  {
   "cell_type": "code",
   "execution_count": null,
   "metadata": {},
   "outputs": [],
   "source": [
    "import hvplot.pandas"
   ]
  },
  {
   "cell_type": "code",
   "execution_count": null,
   "metadata": {},
   "outputs": [],
   "source": []
  },
  {
   "cell_type": "code",
   "execution_count": null,
   "metadata": {},
   "outputs": [],
   "source": [
    "def mpl_plot(avg, highlight):\n",
    "    ax = avg.plot()\n",
    "    if len(highlight): highlight.plot(style='o', ax=ax)\n",
    "    fig = ax.get_figure()\n",
    "    plt.close(fig)\n",
    "    return fig\n",
    "\n",
    "def find_outliers(variable='Temperature', window=30, sigma=10, view_fn=mpl_plot):\n",
    "    avg = data[variable].rolling(window=window).mean()\n",
    "    residual = data[variable] - avg\n",
    "    std = residual.rolling(window=window).std()\n",
    "    outliers = (np.abs(residual) > std * sigma)\n",
    "    return view_fn(avg, avg[outliers])"
   ]
  },
  {
   "cell_type": "markdown",
   "metadata": {},
   "source": [
    "We can call the function with parameters and get a plot:"
   ]
  },
  {
   "cell_type": "code",
   "execution_count": null,
   "metadata": {},
   "outputs": [],
   "source": [
    "find_outliers(variable='Temperature', window=20, sigma=10)"
   ]
  },
  {
   "cell_type": "markdown",
   "metadata": {},
   "source": [
    "It works! But exploring all these parameters by typing Python is slow and tedious. Plus we want our boss, or the boss's boss, to be able to try it out."
   ]
  },
  {
   "cell_type": "markdown",
   "metadata": {},
   "source": [
    "Let's make a panel instead:"
   ]
  },
  {
   "cell_type": "code",
   "execution_count": null,
   "metadata": {},
   "outputs": [],
   "source": [
    "pn.interact(find_outliers)"
   ]
  },
  {
   "cell_type": "markdown",
   "metadata": {},
   "source": [
    "Let's do a bit more work and capture the full range of parameters that can be varied:"
   ]
  },
  {
   "cell_type": "code",
   "execution_count": null,
   "metadata": {},
   "outputs": [],
   "source": [
    "kw = dict(window=(1, 60), variable=sorted(list(data.columns)), sigma=(1, 20))\n",
    "pn.interact(find_outliers, **kw)"
   ]
  },
  {
   "cell_type": "markdown",
   "metadata": {},
   "source": [
    "Now that we've explored it, let's share it with the boss:"
   ]
  },
  {
   "cell_type": "code",
   "execution_count": null,
   "metadata": {},
   "outputs": [],
   "source": [
    "pn.interact(find_outliers, **kw).show()"
   ]
  },
  {
   "cell_type": "markdown",
   "metadata": {},
   "source": [
    "Boss says he doesn't know how to use the dashboard.  \n",
    "\n",
    "Let's look at it and see how it's made, so we can add some explanatory text:"
   ]
  },
  {
   "cell_type": "code",
   "execution_count": null,
   "metadata": {},
   "outputs": [],
   "source": [
    "i = pn.interact(find_outliers, **kw)\n",
    "print(i)"
   ]
  },
  {
   "cell_type": "markdown",
   "metadata": {},
   "source": [
    "Ah, it's just a column of widgets and a plot."
   ]
  },
  {
   "cell_type": "markdown",
   "metadata": {},
   "source": [
    "Let's unpack that, rearrange it, add some instructions, and hide one of the widgets that will just confuse the boss:"
   ]
  },
  {
   "cell_type": "code",
   "execution_count": null,
   "metadata": {},
   "outputs": [],
   "source": [
    "text = \"<br>\\n# Room Occupancy\\nSelect the variable, and the time window for smoothing\"\n",
    "\n",
    "p = pn.Row(i[1][0], pn.Column(text, i[0][0], i[0][1], width=400))\n",
    "p"
   ]
  },
  {
   "cell_type": "markdown",
   "metadata": {},
   "source": [
    "Once we're happy with that in the notebook, we'll share it again:"
   ]
  },
  {
   "cell_type": "code",
   "execution_count": null,
   "metadata": {},
   "outputs": [],
   "source": [
    "p.show()"
   ]
  },
  {
   "cell_type": "code",
   "execution_count": null,
   "metadata": {},
   "outputs": [],
   "source": [
    "p"
   ]
  },
  {
   "cell_type": "markdown",
   "metadata": {},
   "source": [
    "Note that even widgets in another notebook cell stay linked:"
   ]
  },
  {
   "cell_type": "code",
   "execution_count": null,
   "metadata": {},
   "outputs": [],
   "source": [
    "i[0][2]"
   ]
  },
  {
   "cell_type": "markdown",
   "metadata": {},
   "source": [
    "Also note that Panel widgets are reactive, so they will update even if you set the values by hand:"
   ]
  },
  {
   "cell_type": "code",
   "execution_count": null,
   "metadata": {},
   "outputs": [],
   "source": [
    "p"
   ]
  },
  {
   "cell_type": "code",
   "execution_count": null,
   "metadata": {},
   "outputs": [],
   "source": [
    "i[0][0].value = 'Light'"
   ]
  },
  {
   "cell_type": "markdown",
   "metadata": {},
   "source": [
    "Of course, you don't need to use the magic of `interact`; it's also easy to make widgets and link them up by hand:"
   ]
  },
  {
   "cell_type": "code",
   "execution_count": null,
   "metadata": {},
   "outputs": [],
   "source": [
    "import panel.widgets as pnw\n",
    "\n",
    "variable  = pnw.RadioButtonGroup(name='variable', value='Temperature', \n",
    "                                 options=list(data.columns))\n",
    "window    = pnw.IntSlider(name='window', value=10, start=1, end=60)\n",
    "\n",
    "@pn.depends(variable, window)\n",
    "def reactive_outliers(variable, window):\n",
    "    return find_outliers(variable, window, 10)\n",
    "\n",
    "widgets   = pn.Column(\"<br>\\n# Room occupancy\", variable, window)\n",
    "occupancy = pn.Row(reactive_outliers, widgets)"
   ]
  },
  {
   "cell_type": "code",
   "execution_count": null,
   "metadata": {},
   "outputs": [],
   "source": [
    "occupancy"
   ]
  },
  {
   "cell_type": "markdown",
   "metadata": {},
   "source": [
    "So far we've only used Matplotlib.  \n",
    "\n",
    "What about other libraries? You can use almost anything!"
   ]
  },
  {
   "cell_type": "markdown",
   "metadata": {},
   "source": [
    "E.g. [hvPlot](http://hvplot.pyviz.org), a drop-in replacement for Pandas .plot() (and xarray, dask, intake, ...) that gives fully interactive [Bokeh](http://bokeh.pydata.org) plots in panels:"
   ]
  },
  {
   "cell_type": "code",
   "execution_count": null,
   "metadata": {},
   "outputs": [],
   "source": [
    "import hvplot.pandas\n",
    "\n",
    "def hvplot(avg, highlight):\n",
    "    return avg.hvplot(height=300, legend=False) * highlight.hvplot.scatter(color='orange', padding=0.1, legend=False)\n",
    "\n",
    "text2 = \"## Room Occupancy\\nSelect the variable and the smoothing values\"\n",
    "hvp   = pn.interact(find_outliers, view_fn=hvplot, **kw)\n",
    "occupancy_app = pn.Column(pn.Row(pn.panel(text2, width=400), hvp[0]), hvp[1])\n",
    "occupancy_app.servable()"
   ]
  },
  {
   "cell_type": "markdown",
   "metadata": {},
   "source": [
    "We can bring in other datasets, dozens of other plotting libraries, linked plots, drilling down, big data, etc., but let's call that done for now. \n",
    "\n",
    "Can we keep it running as a server indefinitely now?  \n",
    "\n",
    "Sure, just mark the item to serve with `.servable()` in the notebook, then run `panel serve --show PyDataBerlin2019.ipynb`. \n",
    "\n",
    "As you can see, Panel is designed to support your _entire_ data-analysis workflow -- work in a notebook, explore freely, deploy freely, do batch or cron jobs, and never have to rewrite to use your code in a new context."
   ]
  },
  {
   "cell_type": "markdown",
   "metadata": {},
   "source": [
    "# Other Features"
   ]
  },
  {
   "cell_type": "markdown",
   "metadata": {},
   "source": [
    "## Embedding"
   ]
  },
  {
   "cell_type": "code",
   "execution_count": null,
   "metadata": {},
   "outputs": [],
   "source": [
    "occupancy_app.save('test.html', embed=True)"
   ]
  },
  {
   "cell_type": "markdown",
   "metadata": {},
   "source": [
    "## Templating"
   ]
  },
  {
   "cell_type": "markdown",
   "metadata": {},
   "source": [
    "```\n",
    "{% extends base %}\n",
    "\n",
    "<!-- goes in body -->\n",
    "{% block postamble %}\n",
    "<link rel=\"stylesheet\" href=\"https://cdnjs.cloudflare.com/ajax/libs/materialize/1.0.0/css/materialize.min.css\">\n",
    "<link href=\"https://fonts.googleapis.com/icon?family=Material+Icons\" rel=\"stylesheet\">\n",
    "\n",
    "<script src=\"https://cdnjs.cloudflare.com/ajax/libs/materialize/1.0.0/js/materialize.min.js\"></script>\n",
    "\n",
    "<style type=\"text/css\">\n",
    "  body {\n",
    "    background-color: var(--jp-layout-color0);\n",
    "    overflow-y: scroll;\n",
    "  }\n",
    "  .nav-wrapper {\n",
    "    background-color: #2f2f2f;\n",
    "  }\n",
    "  .brand-logo {\n",
    "    height: 75%;\n",
    "    margin: 8px;\n",
    "  }\n",
    "</style>\n",
    "{% endblock %}\n",
    "\n",
    "<!-- goes in body -->\n",
    "{% block contents %}\n",
    "<header>\n",
    "  <div class=\"navbar-fixed\">\n",
    "    <nav class=\"top-nav\">\n",
    "      <div class=\"nav-wrapper\">\n",
    "        <a href=\"#!\" class=\"brand-logo-container\">\n",
    "          <object class=\"brand-logo\" type=\"image/png\" data=\"http://panel.pyviz.org/_static/logo_horizontal.png\"></object>\n",
    "        </a>\n",
    "      </div>\n",
    "    </nav>\n",
    "  </div>\n",
    "</header>\n",
    "\n",
    "<div class=\"row\">\n",
    "\n",
    "  <div class=\"col s2\">\n",
    "    <!-- Grey navigation panel -->\n",
    "  </div>\n",
    "\n",
    "  <div class=\"col s8\">\n",
    "    <h1>Custom Material UI Template</h1>\n",
    "    <p>This is a Panel app with a custom template allowing us to compose multiple Panel objects into a single HTML document.</p>\n",
    "    <br>\n",
    "    \n",
    "    <ul class=\"collapsible\">\n",
    "      <li>\n",
    "        <div class=\"collapsible-header\"><i class=\"material-icons\">filter_drama</i>Vega</div>\n",
    "        <div class=\"collapsible-body\">{{ embed(roots.vega) }}</div>\n",
    "      </li>\n",
    "      <li>\n",
    "        <div class=\"collapsible-header\"><i class=\"material-icons\">place</i>Plotly</div>\n",
    "        <div class=\"collapsible-body\">{{ embed(roots.plotly) }}</div>\n",
    "      </li>\n",
    "      <li>\n",
    "        <div class=\"collapsible-header\"><i class=\"material-icons\">place</i>HoloViews</div>\n",
    "        <div class=\"collapsible-body\">{{ embed(roots.holoviews) }}</div>\n",
    "      </li>\n",
    "    </ul>\n",
    "  \n",
    "  <div class=\"col s2\">\n",
    "    <!-- Grey navigation panel -->\n",
    "  </div>\n",
    "</div>\n",
    "\n",
    "<script>\n",
    "  document.addEventListener('DOMContentLoaded', function() {\n",
    "    var elems = document.querySelectorAll('.collapsible');\n",
    "    var instances = M.Collapsible.init(elems, {});\n",
    "  });\n",
    "</script>\n",
    "\n",
    "{% endblock %}\n",
    "```"
   ]
  },
  {
   "cell_type": "code",
   "execution_count": null,
   "metadata": {},
   "outputs": [],
   "source": [
    "template = \"\"\"\n",
    "{% extends base %}\n",
    "\n",
    "<!-- goes in body -->\n",
    "{% block postamble %}\n",
    "<link rel=\"stylesheet\" href=\"https://cdnjs.cloudflare.com/ajax/libs/materialize/1.0.0/css/materialize.min.css\">\n",
    "<link href=\"https://fonts.googleapis.com/icon?family=Material+Icons\" rel=\"stylesheet\">\n",
    "\n",
    "<script src=\"https://cdnjs.cloudflare.com/ajax/libs/materialize/1.0.0/js/materialize.min.js\"></script>\n",
    "\n",
    "<style type=\"text/css\">\n",
    "  body {\n",
    "    background-color: var(--jp-layout-color0);\n",
    "    overflow-y: scroll;\n",
    "  }\n",
    "  .nav-wrapper {\n",
    "    background-color: #2f2f2f;\n",
    "  }\n",
    "  .brand-logo {\n",
    "    height: 75%;\n",
    "    margin: 8px;\n",
    "  }\n",
    "</style>\n",
    "{% endblock %}\n",
    "\n",
    "<!-- goes in body -->\n",
    "{% block contents %}\n",
    "<header>\n",
    "  <div class=\"navbar-fixed\">\n",
    "    <nav class=\"top-nav\">\n",
    "      <div class=\"nav-wrapper\">\n",
    "        <a href=\"#!\" class=\"brand-logo-container\">\n",
    "          <object class=\"brand-logo\" type=\"image/png\" data=\"http://panel.pyviz.org/_static/logo_horizontal.png\"></object>\n",
    "        </a>\n",
    "      </div>\n",
    "    </nav>\n",
    "  </div>\n",
    "</header>\n",
    "\n",
    "<div class=\"row\">\n",
    "\n",
    "  <div class=\"col s2\">\n",
    "    <!-- Grey navigation panel -->\n",
    "  </div>\n",
    "\n",
    "  <div class=\"col s8\">\n",
    "    <h1>Custom Material UI Template</h1>\n",
    "    <p>This is a Panel app with a custom template allowing us to compose multiple Panel objects into a single HTML document.</p>\n",
    "    <br>\n",
    "    \n",
    "    <ul class=\"collapsible\">\n",
    "      <li>\n",
    "        <div class=\"collapsible-header\"><i class=\"material-icons\">filter_drama</i>Vega</div>\n",
    "        <div class=\"collapsible-body\">{{ embed(roots.vega) }}</div>\n",
    "      </li>\n",
    "      <li>\n",
    "        <div class=\"collapsible-header\"><i class=\"material-icons\">place</i>Plotly</div>\n",
    "        <div class=\"collapsible-body\">{{ embed(roots.plotly) }}</div>\n",
    "      </li>\n",
    "      <li>\n",
    "        <div class=\"collapsible-header\"><i class=\"material-icons\">place</i>HoloViews</div>\n",
    "        <div class=\"collapsible-body\">{{ embed(roots.holoviews) }}</div>\n",
    "      </li>\n",
    "    </ul>\n",
    "  \n",
    "  <div class=\"col s2\">\n",
    "    <!-- Grey navigation panel -->\n",
    "  </div>\n",
    "</div>\n",
    "\n",
    "<script>\n",
    "  document.addEventListener('DOMContentLoaded', function() {\n",
    "    var elems = document.querySelectorAll('.collapsible');\n",
    "    var instances = M.Collapsible.init(elems, {});\n",
    "  });\n",
    "</script>\n",
    "\n",
    "{% endblock %}\n",
    "\"\"\""
   ]
  },
  {
   "cell_type": "code",
   "execution_count": null,
   "metadata": {},
   "outputs": [],
   "source": [
    "imdb = {\n",
    "  \"$schema\": \"https://vega.github.io/schema/vega-lite/v3.json\",\n",
    "  \"data\": {\"url\": \"https://raw.githubusercontent.com/vega/vega/master/docs/data/movies.json\"},\n",
    "  \"transform\": [{\n",
    "    \"filter\": {\"and\": [\n",
    "      {\"field\": \"IMDB_Rating\", \"valid\": True},\n",
    "      {\"field\": \"Rotten_Tomatoes_Rating\", \"valid\": True}\n",
    "    ]}\n",
    "  }],\n",
    "  \"mark\": \"rect\",\n",
    "  \"width\": 600,\n",
    "  \"height\": 400,\n",
    "  \"encoding\": {\n",
    "    \"x\": {\n",
    "      \"bin\": {\"maxbins\":60},\n",
    "      \"field\": \"IMDB_Rating\",\n",
    "      \"type\": \"quantitative\"\n",
    "    },\n",
    "    \"y\": {\n",
    "      \"bin\": {\"maxbins\": 40},\n",
    "      \"field\": \"Rotten_Tomatoes_Rating\",\n",
    "      \"type\": \"quantitative\"\n",
    "    },\n",
    "    \"color\": {\n",
    "      \"aggregate\": \"count\",\n",
    "      \"type\": \"quantitative\"\n",
    "    }\n",
    "  },\n",
    "  \"config\": {\n",
    "    \"view\": {\n",
    "      \"stroke\": \"transparent\"\n",
    "    }\n",
    "  }\n",
    "}\n",
    "\n",
    "vega = pn.pane.Vega(imdb, width=750, height=425)\n",
    "\n",
    "# Declare range slider to adjust the color limits\n",
    "color_lims = pn.widgets.RangeSlider(name='Color limits', start=0, end=125,\n",
    "                                    value=(0, 40), step=1, width=200)\n",
    "color_lims.jslink(vega, code={'value': \"\"\"\n",
    "target.data.encoding.color.scale = {domain: source.value};\n",
    "target.properties.data.change.emit()\n",
    "\"\"\"})\n",
    "\n",
    "# Declare slider to control the number of bins along the x-axis\n",
    "imdb_bins = pn.widgets.IntSlider(name='IMDB Ratings Bins', start=0, end=125, \n",
    "                                 value=60, step=25, width=200)\n",
    "imdb_bins.jslink(vega, code={'value': \"\"\"\n",
    "target.data.encoding.x.bin.maxbins = source.value;\n",
    "target.properties.data.change.emit()\n",
    "\"\"\"})\n",
    "\n",
    "# Declare slider to control the number of bins along the y-axis\n",
    "tomato_bins = pn.widgets.IntSlider(name='Rotten Tomato Ratings Bins', start=0, end=125,\n",
    "                                   value=40, step=25, width=200)\n",
    "tomato_bins.jslink(vega, code={'value': \"\"\"\n",
    "target.data.encoding.y.bin.maxbins = source.value;\n",
    "target.properties.data.change.emit()\n",
    "\"\"\"})\n",
    "\n",
    "vega = pn.Row(vega, pn.Column(color_lims, imdb_bins, tomato_bins))"
   ]
  },
  {
   "cell_type": "code",
   "execution_count": null,
   "metadata": {},
   "outputs": [],
   "source": [
    "import plotly.graph_objects as go\n",
    "\n",
    "import pandas as pd\n",
    "\n",
    "# Read data from a csv\n",
    "z_data = pd.read_csv('https://raw.githubusercontent.com/plotly/datasets/master/api_docs/mt_bruno_elevation.csv')\n",
    "\n",
    "plotly = go.Figure(data=[go.Surface(z=z_data.values)])\n",
    "\n",
    "plotly.update_layout(title='Mt Bruno Elevation', autosize=False,\n",
    "                  width=500, height=500,\n",
    "                  margin=dict(l=65, r=50, b=65, t=90));"
   ]
  },
  {
   "cell_type": "code",
   "execution_count": null,
   "metadata": {},
   "outputs": [],
   "source": [
    "import holoviews as hv, param, dask.dataframe as dd\n",
    "import panel as pn\n",
    "\n",
    "\n",
    "from colorcet import cm\n",
    "from holoviews.operation.datashader import rasterize, shade\n",
    "from holoviews.element.tiles import StamenTerrain\n",
    "hv.extension('bokeh')\n",
    "\n",
    "usecols = ['dropoff_x','dropoff_y','pickup_x','pickup_y','dropoff_hour','pickup_hour','passenger_count']\n",
    "df = dd.read_parquet('/Users/philippjfr/development/datashader/examples/data/nyc_taxi_wide.parq')[usecols].persist()\n",
    "opts = dict(responsive=True, min_height=500,xaxis=None,yaxis=None,bgcolor='black',show_grid=False)\n",
    "cmaps = ['fire','bgy','bgyw','bmy','gray','kbc']\n",
    "\n",
    "alpha = pn.widgets.FloatSlider(name='Alpha', start=0, end=1, value=1)\n",
    "cmap = pn.widgets.Select(name='Colormap', options={c:cm[c] for c in cmaps}, value=cm['fire'])\n",
    "location = pn.widgets.Select(name='Location', options=['dropoff', 'pickup'], value='dropoff')\n",
    "hour = pn.widgets.IntRangeSlider(name='Hour', start=0, end=24, value=(0, 24))\n",
    "\n",
    "def points(ds, loc, h):\n",
    "    points = hv.Points(ds, [loc+'_x', loc+'_y'], 'dropoff_hour')\n",
    "    if hour != (0, 24): points = points.select(dropoff_hour=h)\n",
    "    return points\n",
    "\n",
    "\n",
    "link = hv.selection.link_selections.instance()\n",
    "\n",
    "ds = hv.Dataset(df)\n",
    "tiles = StamenTerrain().apply.opts(alpha=alpha, **opts)\n",
    "points = ds.apply(points, loc=location, h=hour)\n",
    "agg = rasterize(points, x_sampling=1, y_sampling=1, width=600, height=400)\n",
    "shaded = shade(agg, cmap=cmap)\n",
    "hist = agg.hist('dropoff_hour', adjoin=False)\n",
    "\n",
    "holoviews = pn.Row(\n",
    "    pn.Column(pn.WidgetBox(alpha, cmap, location, hour), link(hist)),\n",
    "    tiles * shaded\n",
    ")"
   ]
  },
  {
   "cell_type": "code",
   "execution_count": null,
   "metadata": {},
   "outputs": [],
   "source": [
    "tmpl = pn.Template(template)\n",
    "\n",
    "tmpl.add_panel('vega', vega)\n",
    "tmpl.add_panel('plotly', plotly)\n",
    "tmpl.add_panel('holoviews', holoviews)\n",
    "\n",
    "tmpl.servable()"
   ]
  },
  {
   "cell_type": "markdown",
   "metadata": {},
   "source": [
    "# Roadmap\n",
    "\n",
    "* Detailed deployment guides for AWS, GCS, Azure, Heroku etc.\n",
    "* More examples and expand gallery\n",
    "* More components (i.e. widgets, panes etc.)\n",
    "* Add bi-directional support for Jupyter widgets, i.e. include Panel app in Jupyter widget or Jupyter widget in Panel"
   ]
  },
  {
   "cell_type": "markdown",
   "metadata": {},
   "source": [
    "# Comparison\n",
    "\n"
   ]
  },
  {
   "cell_type": "markdown",
   "metadata": {},
   "source": [
    "## Compared to Dash, Panel is:\n",
    "\n",
    "- Typically much more concise\n",
    "- More Pythonic (less reliance on HTML/CSS)\n",
    "- Usable with most plotting libraries, out of the box\n",
    "- Fully usable from Jupyter notebooks\n",
    "- More focused on the full life cycle of exploration to deployment"
   ]
  },
  {
   "cell_type": "markdown",
   "metadata": {},
   "source": [
    "## Compared to Voila+ipywidgets, Panel:\n",
    "\n",
    "- Is not tied to Jupyter:\n",
    "   * fully usable from .py, for bigger dashboards\n",
    "   * deployable without Jupyter installed, for production\n",
    "- Is more scalable<br>(new connections don't need overhead of a new kernel and can use shared data/computation)\n",
    "- Makes it simple to designate which output in a notebook is for the dashboard(s)"
   ]
  },
  {
   "cell_type": "markdown",
   "metadata": {},
   "source": [
    "<img src=\"http://holoviz.org/assets/holoviz-logo-unstacked.svg\" width=350>\n",
    "\n",
    "Panel and hvPlot are HoloViz projects, like Datashader, HoloViews, GeoViews, Param, Colorcet, ...\n",
    "\n",
    "See [holoviz.org](https://holoviz.org) to see how everything fits together to solve all your viz needs!\n",
    "\n",
    "@philippjfr\n",
    "\n",
    "prudiger@anaconda.com"
   ]
  }
 ],
 "metadata": {
  "language_info": {
   "name": "python",
   "pygments_lexer": "ipython3"
  }
 },
 "nbformat": 4,
 "nbformat_minor": 4
}
